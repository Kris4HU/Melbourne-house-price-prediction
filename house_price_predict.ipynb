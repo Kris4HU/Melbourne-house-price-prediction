{
 "cells": [
  {
   "cell_type": "code",
   "execution_count": 2,
   "metadata": {},
   "outputs": [],
   "source": [
    "import pandas as pd\n",
    "import numpy as np\n",
    "import matplotlib.pyplot as plt\n",
    "import seaborn as sns\n",
    "import matplotlib\n",
    "%matplotlib inline"
   ]
  },
  {
   "cell_type": "code",
   "execution_count": 3,
   "metadata": {},
   "outputs": [],
   "source": [
    "data = pd.read_csv(\"./Dataset_Melbourne-House-Price/Melbourne_housing_FULL.csv\",header=0)"
   ]
  },
  {
   "cell_type": "code",
   "execution_count": 4,
   "metadata": {},
   "outputs": [
    {
     "name": "stdout",
     "output_type": "stream",
     "text": [
      "<class 'pandas.core.frame.DataFrame'>\n",
      "RangeIndex: 34857 entries, 0 to 34856\n",
      "Data columns (total 21 columns):\n",
      "Suburb           34857 non-null object\n",
      "Address          34857 non-null object\n",
      "Rooms            34857 non-null int64\n",
      "Type             34857 non-null object\n",
      "Price            27247 non-null float64\n",
      "Method           34857 non-null object\n",
      "SellerG          34857 non-null object\n",
      "Date             34857 non-null object\n",
      "Distance         34856 non-null float64\n",
      "Postcode         34856 non-null float64\n",
      "Bedroom2         26640 non-null float64\n",
      "Bathroom         26631 non-null float64\n",
      "Car              26129 non-null float64\n",
      "Landsize         23047 non-null float64\n",
      "BuildingArea     13742 non-null float64\n",
      "YearBuilt        15551 non-null float64\n",
      "CouncilArea      34854 non-null object\n",
      "Lattitude        26881 non-null float64\n",
      "Longtitude       26881 non-null float64\n",
      "Regionname       34854 non-null object\n",
      "Propertycount    34854 non-null float64\n",
      "dtypes: float64(12), int64(1), object(8)\n",
      "memory usage: 5.6+ MB\n",
      "None\n",
      "           Suburb       Address   Type Method SellerG        Date  \\\n",
      "count       34857         34857  34857  34857   34857       34857   \n",
      "unique        351         34009      3      9     388          78   \n",
      "top     Reservoir  5 Charles St      h      S  Jellis  28/10/2017   \n",
      "freq          844             6  23980  19744    3359        1119   \n",
      "\n",
      "                    CouncilArea             Regionname  \n",
      "count                     34854                  34854  \n",
      "unique                       33                      8  \n",
      "top     Boroondara City Council  Southern Metropolitan  \n",
      "freq                       3675                  11836  \n",
      "              Rooms         Price      Distance      Postcode      Bedroom2  \\\n",
      "count  34857.000000  2.724700e+04  34856.000000  34856.000000  26640.000000   \n",
      "mean       3.031012  1.050173e+06     11.184929   3116.062859      3.084647   \n",
      "std        0.969933  6.414671e+05      6.788892    109.023903      0.980690   \n",
      "min        1.000000  8.500000e+04      0.000000   3000.000000      0.000000   \n",
      "25%        2.000000  6.350000e+05      6.400000   3051.000000      2.000000   \n",
      "50%        3.000000  8.700000e+05     10.300000   3103.000000      3.000000   \n",
      "75%        4.000000  1.295000e+06     14.000000   3156.000000      4.000000   \n",
      "max       16.000000  1.120000e+07     48.100000   3978.000000     30.000000   \n",
      "\n",
      "           Bathroom           Car       Landsize  BuildingArea     YearBuilt  \\\n",
      "count  26631.000000  26129.000000   23047.000000   13742.00000  15551.000000   \n",
      "mean       1.624798      1.728845     593.598993     160.25640   1965.289885   \n",
      "std        0.724212      1.010771    3398.841946     401.26706     37.328178   \n",
      "min        0.000000      0.000000       0.000000       0.00000   1196.000000   \n",
      "25%        1.000000      1.000000     224.000000     102.00000   1940.000000   \n",
      "50%        2.000000      2.000000     521.000000     136.00000   1970.000000   \n",
      "75%        2.000000      2.000000     670.000000     188.00000   2000.000000   \n",
      "max       12.000000     26.000000  433014.000000   44515.00000   2106.000000   \n",
      "\n",
      "          Lattitude    Longtitude  Propertycount  \n",
      "count  26881.000000  26881.000000   34854.000000  \n",
      "mean     -37.810634    145.001851    7572.888306  \n",
      "std        0.090279      0.120169    4428.090313  \n",
      "min      -38.190430    144.423790      83.000000  \n",
      "25%      -37.862950    144.933500    4385.000000  \n",
      "50%      -37.807600    145.007800    6763.000000  \n",
      "75%      -37.754100    145.071900   10412.000000  \n",
      "max      -37.390200    145.526350   21650.000000  \n",
      "Suburb            0.00%\n",
      "Address           0.00%\n",
      "Rooms             0.00%\n",
      "Type              0.00%\n",
      "Price            21.83%\n",
      "Method            0.00%\n",
      "SellerG           0.00%\n",
      "Date              0.00%\n",
      "Distance          0.00%\n",
      "Postcode          0.00%\n",
      "Bedroom2         23.57%\n",
      "Bathroom         23.60%\n",
      "Car              25.04%\n",
      "Landsize         33.88%\n",
      "BuildingArea     60.58%\n",
      "YearBuilt        55.39%\n",
      "CouncilArea       0.01%\n",
      "Lattitude        22.88%\n",
      "Longtitude       22.88%\n",
      "Regionname        0.01%\n",
      "Propertycount     0.01%\n",
      "dtype: object\n",
      "                  Rooms     Price  Distance  Postcode  Bedroom2  Bathroom  \\\n",
      "Rooms          1.000000  0.465238  0.271511  0.085890  0.946755  0.611826   \n",
      "Price          0.465238  1.000000 -0.211384  0.044950  0.430275  0.429878   \n",
      "Distance       0.271511 -0.211384  1.000000  0.481566  0.269524  0.126201   \n",
      "Postcode       0.085890  0.044950  0.481566  1.000000  0.089292  0.120080   \n",
      "Bedroom2       0.946755  0.430275  0.269524  0.089292  1.000000  0.614892   \n",
      "Bathroom       0.611826  0.429878  0.126201  0.120080  0.614892  1.000000   \n",
      "Car            0.393878  0.201803  0.241835  0.067886  0.388491  0.307518   \n",
      "Landsize       0.037402  0.032748  0.060862  0.040664  0.037019  0.036333   \n",
      "BuildingArea   0.156229  0.100754  0.076301  0.042437  0.154157  0.147558   \n",
      "YearBuilt     -0.012749 -0.333306  0.323059  0.089805 -0.002022  0.167955   \n",
      "Lattitude      0.004872 -0.215607 -0.100417 -0.231027  0.003447 -0.059183   \n",
      "Longtitude     0.103235  0.197874  0.200946  0.362895  0.106164  0.106531   \n",
      "Propertycount -0.071677 -0.059017 -0.018140  0.017108 -0.053451 -0.032887   \n",
      "\n",
      "                    Car  Landsize  BuildingArea  YearBuilt  Lattitude  \\\n",
      "Rooms          0.393878  0.037402      0.156229  -0.012749   0.004872   \n",
      "Price          0.201803  0.032748      0.100754  -0.333306  -0.215607   \n",
      "Distance       0.241835  0.060862      0.076301   0.323059  -0.100417   \n",
      "Postcode       0.067886  0.040664      0.042437   0.089805  -0.231027   \n",
      "Bedroom2       0.388491  0.037019      0.154157  -0.002022   0.003447   \n",
      "Bathroom       0.307518  0.036333      0.147558   0.167955  -0.059183   \n",
      "Car            1.000000  0.037829      0.104373   0.128702  -0.009020   \n",
      "Landsize       0.037829  1.000000      0.354530   0.044474   0.025318   \n",
      "BuildingArea   0.104373  0.354530      1.000000   0.067811   0.017155   \n",
      "YearBuilt      0.128702  0.044474      0.067811   1.000000   0.091592   \n",
      "Lattitude     -0.009020  0.025318      0.017155   0.091592   1.000000   \n",
      "Longtitude     0.047213 -0.002582     -0.002143  -0.022175  -0.345589   \n",
      "Propertycount -0.009617 -0.018195     -0.024523   0.022420   0.011112   \n",
      "\n",
      "               Longtitude  Propertycount  \n",
      "Rooms            0.103235      -0.071677  \n",
      "Price            0.197874      -0.059017  \n",
      "Distance         0.200946      -0.018140  \n",
      "Postcode         0.362895       0.017108  \n",
      "Bedroom2         0.106164      -0.053451  \n",
      "Bathroom         0.106531      -0.032887  \n",
      "Car              0.047213      -0.009617  \n",
      "Landsize        -0.002582      -0.018195  \n",
      "BuildingArea    -0.002143      -0.024523  \n",
      "YearBuilt       -0.022175       0.022420  \n",
      "Lattitude       -0.345589       0.011112  \n",
      "Longtitude       1.000000       0.016326  \n",
      "Propertycount    0.016326       1.000000  \n"
     ]
    }
   ],
   "source": [
    "print(data.info())\n",
    "print(data.describe(include=[object]))\n",
    "print(data.describe())\n",
    "print((data.isnull().sum()/len(data)).apply(lambda x: format(x, '.2%')) )\n",
    "print(data.corr())"
   ]
  },
  {
   "cell_type": "code",
   "execution_count": 5,
   "metadata": {},
   "outputs": [],
   "source": [
    "# drop address\n",
    "data.drop(columns=['Address','Suburb','SellerG','Bedroom2'],inplace=True)"
   ]
  },
  {
   "cell_type": "code",
   "execution_count": 6,
   "metadata": {},
   "outputs": [],
   "source": [
    "# 1.1 Missing value Processing\n",
    "# drop the data where price is missing\n",
    "data.dropna(axis=0, subset=['Price'], inplace=True)\n",
    "# fill with mode\n",
    "data.fillna({'Regionname': data['Regionname'].mode()}, inplace=True)\n",
    "# fill na using back filling\n",
    "data.fillna(method='bfill', inplace=True)"
   ]
  },
  {
   "cell_type": "code",
   "execution_count": 7,
   "metadata": {},
   "outputs": [],
   "source": [
    "# 1.2 Categorical value transformation"
   ]
  },
  {
   "cell_type": "code",
   "execution_count": 8,
   "metadata": {},
   "outputs": [
    {
     "data": {
      "image/png": "[encoded data removed]",
      "text/plain": [
       "<Figure size 432x288 with 1 Axes>"
      ]
     },
     "metadata": {
      "needs_background": "light"
     },
     "output_type": "display_data"
    }
   ],
   "source": [
    "# time data processing\n",
    "data['Date']=pd.to_datetime(data['Date'])\n",
    "data['Date']=data['Date']-data['Date'].min()\n",
    "data['Date'].value_counts().plot.bar(title='distribution of Date sold')\n",
    "data['Date']=data['Date'].astype(\"str\").str.split().str[0].astype(\"int\")"
   ]
  },
  {
   "cell_type": "code",
   "execution_count": 9,
   "metadata": {},
   "outputs": [
    {
     "name": "stdout",
     "output_type": "stream",
     "text": [
      "(27247, 62)\n"
     ]
    }
   ],
   "source": [
    "# get dummies\n",
    "dum = pd.get_dummies(data)\n",
    "print(dum.shape)"
   ]
  },
  {
   "cell_type": "code",
   "execution_count": 10,
   "metadata": {},
   "outputs": [],
   "source": [
    "# 1.3 Define X and Y"
   ]
  },
  {
   "cell_type": "code",
   "execution_count": 11,
   "metadata": {},
   "outputs": [],
   "source": [
    "# normalize X\n",
    "x_num = data.select_dtypes(include=['number'])\n",
    "x_num = (x_num - x_num.mean()) / (x_num.std())\n",
    "x_dummy = pd.get_dummies(data.select_dtypes(exclude=['number']))\n",
    "x_standard = pd.concat([x_num, x_dummy],axis=1).values\n",
    "\n",
    "ones = pd.DataFrame({'ones': np.ones(len(x_standard))}).values\n",
    "X_data = np.hstack([ones, x_standard])"
   ]
  },
  {
   "cell_type": "code",
   "execution_count": 13,
   "metadata": {},
   "outputs": [
    {
     "data": {
      "image/png": "[encoded data removed]",
      "text/plain": [
       "<Figure size 864x432 with 2 Axes>"
      ]
     },
     "metadata": {
      "needs_background": "light"
     },
     "output_type": "display_data"
    }
   ],
   "source": [
    "# processing Y\n",
    "matplotlib.rcParams['figure.figsize'] = (12.0, 6.0)\n",
    "prices = pd.DataFrame({\"Price\":data[\"Price\"],\n",
    "                       \"log(price + 1)\":np.log1p(data[\"Price\"])})\n",
    "prices.hist()\n",
    "y_data = np.log1p(data['Price'].values)\n",
    "y_data = y_data.reshape(len(y_data), 1)"
   ]
  },
  {
   "cell_type": "code",
   "execution_count": 14,
   "metadata": {},
   "outputs": [
    {
     "name": "stdout",
     "output_type": "stream",
     "text": [
      "WARNING:tensorflow:From D:\\Anaconda3\\lib\\site-packages\\tensorflow_core\\python\\compat\\v2_compat.py:88: disable_resource_variables (from tensorflow.python.ops.variable_scope) is deprecated and will be removed in a future version.\n",
      "Instructions for updating:\n",
      "non-resource variables are not supported in the long term\n"
     ]
    }
   ],
   "source": [
    "import tensorflow as tf\n",
    "import tensorflow.compat.v1 as tf\n",
    "tf.disable_v2_behavior()"
   ]
  },
  {
   "cell_type": "code",
   "execution_count": 15,
   "metadata": {},
   "outputs": [],
   "source": [
    "# 2. Logistic Regression by tensorflow\n",
    "# 2.1 Settings\n",
    "learning_rate = 0.001\n",
    "training_epochs = 800\n",
    "display_step = 40"
   ]
  },
  {
   "cell_type": "code",
   "execution_count": 71,
   "metadata": {},
   "outputs": [
    {
     "name": "stdout",
     "output_type": "stream",
     "text": [
      "Epoch 0 \t Loss = 93.86 \t  Model: y = 0.0002728x1 + 0.0004777x2 + 0.01372\n",
      "Epoch 10 \t Loss = 89.69 \t  Model: y = 0.002899x1 + 0.005139x2 + 0.1492\n",
      "Epoch 20 \t Loss = 85.7 \t  Model: y = 0.005344x1 + 0.009593x2 + 0.2817\n",
      "Epoch 30 \t Loss = 81.89 \t  Model: y = 0.007615x1 + 0.01385x2 + 0.4112\n",
      "Epoch 40 \t Loss = 78.26 \t  Model: y = 0.009717x1 + 0.01791x2 + 0.5378\n",
      "Epoch 50 \t Loss = 74.8 \t  Model: y = 0.01166x1 + 0.02178x2 + 0.6616\n",
      "Epoch 60 \t Loss = 71.49 \t  Model: y = 0.01344x1 + 0.02547x2 + 0.7826\n",
      "Epoch 70 \t Loss = 68.33 \t  Model: y = 0.01508x1 + 0.02898x2 + 0.9009\n",
      "Epoch 80 \t Loss = 65.32 \t  Model: y = 0.01656x1 + 0.03233x2 + 1.016\n",
      "Epoch 90 \t Loss = 62.44 \t  Model: y = 0.01791x1 + 0.03551x2 + 1.13\n",
      "Epoch 100 \t Loss = 59.69 \t  Model: y = 0.01913x1 + 0.03853x2 + 1.24\n",
      "Epoch 110 \t Loss = 57.07 \t  Model: y = 0.02021x1 + 0.0414x2 + 1.348\n",
      "Epoch 120 \t Loss = 54.57 \t  Model: y = 0.02117x1 + 0.04412x2 + 1.454\n",
      "Epoch 130 \t Loss = 52.18 \t  Model: y = 0.02202x1 + 0.04669x2 + 1.557\n",
      "Epoch 140 \t Loss = 49.9 \t  Model: y = 0.02274x1 + 0.04913x2 + 1.658\n",
      "Epoch 150 \t Loss = 47.72 \t  Model: y = 0.02336x1 + 0.05143x2 + 1.757\n",
      "Epoch 160 \t Loss = 45.64 \t  Model: y = 0.02387x1 + 0.0536x2 + 1.853\n",
      "Epoch 170 \t Loss = 43.66 \t  Model: y = 0.02428x1 + 0.05564x2 + 1.948\n",
      "Epoch 180 \t Loss = 41.77 \t  Model: y = 0.02459x1 + 0.05757x2 + 2.04\n",
      "Epoch 190 \t Loss = 39.96 \t  Model: y = 0.0248x1 + 0.05937x2 + 2.13\n",
      "Epoch 200 \t Loss = 38.23 \t  Model: y = 0.02493x1 + 0.06106x2 + 2.218\n",
      "Epoch 210 \t Loss = 36.59 \t  Model: y = 0.02496x1 + 0.06265x2 + 2.305\n",
      "Epoch 220 \t Loss = 35.01 \t  Model: y = 0.02492x1 + 0.06413x2 + 2.389\n",
      "Epoch 230 \t Loss = 33.51 \t  Model: y = 0.0248x1 + 0.0655x2 + 2.471\n",
      "Epoch 240 \t Loss = 32.08 \t  Model: y = 0.02459x1 + 0.06678x2 + 2.552\n",
      "Epoch 250 \t Loss = 30.71 \t  Model: y = 0.02432x1 + 0.06796x2 + 2.631\n",
      "Epoch 260 \t Loss = 29.4 \t  Model: y = 0.02398x1 + 0.06905x2 + 2.708\n",
      "Epoch 270 \t Loss = 28.15 \t  Model: y = 0.02357x1 + 0.07006x2 + 2.783\n",
      "Epoch 280 \t Loss = 26.96 \t  Model: y = 0.02309x1 + 0.07097x2 + 2.857\n",
      "Epoch 290 \t Loss = 25.82 \t  Model: y = 0.02256x1 + 0.07181x2 + 2.929\n",
      "Epoch 300 \t Loss = 24.74 \t  Model: y = 0.02197x1 + 0.07256x2 + 3\n",
      "Epoch 310 \t Loss = 23.7 \t  Model: y = 0.02132x1 + 0.07324x2 + 3.069\n",
      "Epoch 320 \t Loss = 22.71 \t  Model: y = 0.02061x1 + 0.07385x2 + 3.136\n",
      "Epoch 330 \t Loss = 21.76 \t  Model: y = 0.01986x1 + 0.07438x2 + 3.202\n",
      "Epoch 340 \t Loss = 20.86 \t  Model: y = 0.01906x1 + 0.07485x2 + 3.267\n",
      "Epoch 350 \t Loss = 20 \t  Model: y = 0.01822x1 + 0.07525x2 + 3.33\n",
      "Epoch 360 \t Loss = 19.17 \t  Model: y = 0.01733x1 + 0.07559x2 + 3.392\n",
      "Epoch 370 \t Loss = 18.39 \t  Model: y = 0.01639x1 + 0.07587x2 + 3.452\n",
      "Epoch 380 \t Loss = 17.64 \t  Model: y = 0.01542x1 + 0.07609x2 + 3.511\n",
      "Epoch 390 \t Loss = 16.92 \t  Model: y = 0.01442x1 + 0.07625x2 + 3.569\n",
      "Epoch 400 \t Loss = 16.23 \t  Model: y = 0.01337x1 + 0.07636x2 + 3.626\n",
      "Epoch 410 \t Loss = 15.58 \t  Model: y = 0.0123x1 + 0.07642x2 + 3.681\n",
      "Epoch 420 \t Loss = 14.95 \t  Model: y = 0.01119x1 + 0.07642x2 + 3.735\n",
      "Epoch 430 \t Loss = 14.36 \t  Model: y = 0.01005x1 + 0.07638x2 + 3.788\n",
      "Epoch 440 \t Loss = 13.79 \t  Model: y = 0.008887x1 + 0.07629x2 + 3.84\n",
      "Epoch 450 \t Loss = 13.24 \t  Model: y = 0.007696x1 + 0.07616x2 + 3.89\n",
      "Epoch 460 \t Loss = 12.72 \t  Model: y = 0.00648x1 + 0.07599x2 + 3.94\n",
      "Epoch 470 \t Loss = 12.23 \t  Model: y = 0.00524x1 + 0.07578x2 + 3.988\n",
      "Epoch 480 \t Loss = 11.75 \t  Model: y = 0.003979x1 + 0.07552x2 + 4.036\n",
      "Epoch 490 \t Loss = 11.3 \t  Model: y = 0.002698x1 + 0.07523x2 + 4.082\n",
      "Epoch 500 \t Loss = 10.86 \t  Model: y = 0.001397x1 + 0.07491x2 + 4.128\n",
      "Epoch 510 \t Loss = 10.45 \t  Model: y = 7.978e-05x1 + 0.07455x2 + 4.172\n",
      "Epoch 520 \t Loss = 10.05 \t  Model: y = -0.001254x1 + 0.07416x2 + 4.216\n",
      "Epoch 530 \t Loss = 9.675 \t  Model: y = -0.002603x1 + 0.07374x2 + 4.258\n",
      "Epoch 540 \t Loss = 9.313 \t  Model: y = -0.003965x1 + 0.07328x2 + 4.3\n",
      "Epoch 550 \t Loss = 8.968 \t  Model: y = -0.005341x1 + 0.0728x2 + 4.341\n",
      "Epoch 560 \t Loss = 8.638 \t  Model: y = -0.006727x1 + 0.07229x2 + 4.381\n",
      "Epoch 570 \t Loss = 8.322 \t  Model: y = -0.008124x1 + 0.07176x2 + 4.42\n",
      "Epoch 580 \t Loss = 8.021 \t  Model: y = -0.00953x1 + 0.0712x2 + 4.458\n",
      "Epoch 590 \t Loss = 7.733 \t  Model: y = -0.01094x1 + 0.07062x2 + 4.495\n",
      "Epoch 600 \t Loss = 7.457 \t  Model: y = -0.01237x1 + 0.07002x2 + 4.532\n",
      "Epoch 610 \t Loss = 7.194 \t  Model: y = -0.0138x1 + 0.06939x2 + 4.568\n",
      "Epoch 620 \t Loss = 6.942 \t  Model: y = -0.01523x1 + 0.06875x2 + 4.603\n",
      "Epoch 630 \t Loss = 6.702 \t  Model: y = -0.01667x1 + 0.06809x2 + 4.637\n",
      "Epoch 640 \t Loss = 6.471 \t  Model: y = -0.01811x1 + 0.06741x2 + 4.671\n",
      "Epoch 650 \t Loss = 6.251 \t  Model: y = -0.01956x1 + 0.06671x2 + 4.703\n",
      "Epoch 660 \t Loss = 6.041 \t  Model: y = -0.021x1 + 0.066x2 + 4.736\n",
      "Epoch 670 \t Loss = 5.84 \t  Model: y = -0.02245x1 + 0.06527x2 + 4.767\n",
      "Epoch 680 \t Loss = 5.647 \t  Model: y = -0.0239x1 + 0.06452x2 + 4.798\n",
      "Epoch 690 \t Loss = 5.463 \t  Model: y = -0.02535x1 + 0.06377x2 + 4.828\n",
      "Epoch 700 \t Loss = 5.287 \t  Model: y = -0.02681x1 + 0.063x2 + 4.858\n",
      "Epoch 710 \t Loss = 5.119 \t  Model: y = -0.02825x1 + 0.06222x2 + 4.887\n",
      "Epoch 720 \t Loss = 4.957 \t  Model: y = -0.0297x1 + 0.06143x2 + 4.915\n",
      "Epoch 730 \t Loss = 4.803 \t  Model: y = -0.03115x1 + 0.06063x2 + 4.943\n",
      "Epoch 740 \t Loss = 4.656 \t  Model: y = -0.03259x1 + 0.05982x2 + 4.97\n",
      "Epoch 750 \t Loss = 4.514 \t  Model: y = -0.03403x1 + 0.059x2 + 4.997\n",
      "Epoch 760 \t Loss = 4.379 \t  Model: y = -0.03546x1 + 0.05817x2 + 5.023\n",
      "Epoch 770 \t Loss = 4.25 \t  Model: y = -0.03689x1 + 0.05734x2 + 5.049\n",
      "Epoch 780 \t Loss = 4.126 \t  Model: y = -0.03832x1 + 0.05649x2 + 5.074\n",
      "Epoch 790 \t Loss = 4.008 \t  Model: y = -0.03974x1 + 0.05565x2 + 5.098\n"
     ]
    }
   ],
   "source": [
    "# 2.2 Build the model\n",
    "# Parameters -- placeholder\n",
    "tf.reset_default_graph()\n",
    "X = tf.placeholder(tf.float32, X_data.shape)\n",
    "y = tf.placeholder(tf.float32, y_data.shape)\n",
    "\n",
    "W =  tf.get_variable(\"weights\", (X_data.shape[1], 1), initializer=tf.constant_initializer())\n",
    "y_pred = tf.matmul(X, W)\n",
    "\n",
    "loss_op = 1 / (2 * len(X_data)) * tf.matmul((y_pred - y), (y_pred - y), transpose_a = True)\n",
    "opt = tf.train.GradientDescentOptimizer(learning_rate = learning_rate)\n",
    "train_op = opt.minimize(loss_op)\n",
    "\n",
    "loss_data = []\n",
    "\n",
    "# Create the session\n",
    "with tf.Session() as sess:\n",
    "    sess.run(tf.global_variables_initializer())\n",
    "    writer = tf.summary.FileWriter('./summary/linear-regression-0/', sess.graph)\n",
    "    for e in range(training_epochs):\n",
    "        sess.run(train_op, feed_dict = {X: X_data, y: y_data})\n",
    "        loss, w = sess.run([loss_op, W], feed_dict = {X: X_data, y: y_data})\n",
    "        loss_data.append(loss)\n",
    "        if e % display_step == 0:\n",
    "            log_str = \"Epoch %d \\t Loss = %.4g \\t  Model: y = %.4gx1 + %.4gx2 + %.4g\"\n",
    "            print(log_str % (e, loss, w[1], w[2], w[0]))\n",
    "        \n",
    "writer.close()\n",
    "loss_data = np.array(loss_data).reshape(len(loss_data))"
   ]
  },
  {
   "cell_type": "code",
   "execution_count": 72,
   "metadata": {},
   "outputs": [
    {
     "data": {
      "image/png": "[encoded data removed]",
      "text/plain": [
       "<Figure size 864x432 with 1 Axes>"
      ]
     },
     "metadata": {
      "needs_background": "light"
     },
     "output_type": "display_data"
    }
   ],
   "source": [
    "import matplotlib.pyplot as plt\n",
    "import seaborn as sns\n",
    "# arange支持小数步长\n",
    "ax = sns.lineplot(x = 'epoch', y = 'loss', data = pd.DataFrame({'loss': loss_data, 'epoch': np.arange(training_epochs)}))\n",
    "ax.set_xlabel('epoch')\n",
    "ax.set_ylabel('loss')\n",
    "plt.show()"
   ]
  },
  {
   "cell_type": "code",
   "execution_count": 17,
   "metadata": {},
   "outputs": [
    {
     "name": "stdout",
     "output_type": "stream",
     "text": [
      "Epoch 0 \t Loss = 93.86 \t  Model: y = 0.0002728x1 + 0.0004777x2 + 0.01372\n",
      "Epoch 40 \t Loss = 78.88 \t  Model: y = 0.009534x1 + 0.01756x2 + 0.5274\n",
      "Epoch 80 \t Loss = 67.4 \t  Model: y = 0.01598x1 + 0.03114x2 + 0.978\n",
      "Epoch 120 \t Loss = 58.6 \t  Model: y = 0.02015x1 + 0.04181x2 + 1.373\n",
      "Epoch 160 \t Loss = 51.86 \t  Model: y = 0.02249x1 + 0.05004x2 + 1.721\n",
      "Epoch 200 \t Loss = 46.7 \t  Model: y = 0.02338x1 + 0.05628x2 + 2.025\n",
      "Epoch 240 \t Loss = 42.74 \t  Model: y = 0.02311x1 + 0.06086x2 + 2.293\n",
      "Epoch 280 \t Loss = 39.7 \t  Model: y = 0.02195x1 + 0.06409x2 + 2.528\n",
      "Epoch 320 \t Loss = 37.37 \t  Model: y = 0.02011x1 + 0.06621x2 + 2.735\n",
      "Epoch 360 \t Loss = 35.58 \t  Model: y = 0.01777x1 + 0.06745x2 + 2.916\n",
      "Epoch 400 \t Loss = 34.21 \t  Model: y = 0.01507x1 + 0.06797x2 + 3.076\n",
      "Epoch 440 \t Loss = 33.16 \t  Model: y = 0.01212x1 + 0.06792x2 + 3.217\n",
      "Epoch 480 \t Loss = 32.35 \t  Model: y = 0.009019x1 + 0.06743x2 + 3.34\n",
      "Epoch 520 \t Loss = 31.73 \t  Model: y = 0.005845x1 + 0.0666x2 + 3.449\n",
      "Epoch 560 \t Loss = 31.25 \t  Model: y = 0.002657x1 + 0.06551x2 + 3.545\n",
      "Epoch 600 \t Loss = 30.88 \t  Model: y = -0.0004996x1 + 0.06424x2 + 3.629\n",
      "Epoch 640 \t Loss = 30.59 \t  Model: y = -0.003588x1 + 0.06283x2 + 3.704\n",
      "Epoch 680 \t Loss = 30.37 \t  Model: y = -0.00658x1 + 0.06134x2 + 3.77\n",
      "Epoch 720 \t Loss = 30.21 \t  Model: y = -0.009456x1 + 0.0598x2 + 3.828\n",
      "Epoch 760 \t Loss = 30.07 \t  Model: y = -0.0122x1 + 0.05825x2 + 3.879\n"
     ]
    }
   ],
   "source": [
    "# Bayes regression\n",
    "# Parameters -- placeholder\n",
    "tf.reset_default_graph()\n",
    "X = tf.placeholder(tf.float32, X_data.shape)\n",
    "y = tf.placeholder(tf.float32, y_data.shape)\n",
    "\n",
    "W=tf.Variable(tf.zeros([X_data.shape[1], 1]), name=\"weight\")\n",
    "#W =  tf.get_variable(\"weights\", (X_data.shape[1], 1), initializer=tf.constant_initializer())\n",
    "y_pred = tf.matmul(X, W)\n",
    "\n",
    "\n",
    "# Prior of W\n",
    "m0 = np.zeros([X_data.shape[1],1])\n",
    "S0 = np.identity(X_data.shape[1])\n",
    "S0 = np.mat(S0)\n",
    "W_m0 = W - m0\n",
    "\n",
    "# loss and optimizer (optimizer: IRLS, compute Hessian)\n",
    "y_pred = tf.matmul(X, W)\n",
    "\n",
    "loss_op = 0.5 * tf.matmul(tf.matmul(tf.transpose(W_m0), S0.I.astype(np.float32)), W_m0)\\\n",
    "        +1 / (2 * len(X_data)) * tf.matmul((y_pred - y), (y_pred - y), transpose_a = True)\n",
    "opt = tf.train.GradientDescentOptimizer(learning_rate = learning_rate)\n",
    "train_op = opt.minimize(loss_op)\n",
    "\n",
    "loss_data = []\n",
    "\n",
    "# Create the session\n",
    "with tf.Session() as sess:\n",
    "    sess.run(tf.global_variables_initializer())\n",
    "    writer = tf.summary.FileWriter('./summary/linear-regression-0/', sess.graph)\n",
    "    for e in range(training_epochs):\n",
    "        sess.run(train_op, feed_dict = {X: X_data, y: y_data})\n",
    "        loss, w = sess.run([loss_op, W], feed_dict = {X: X_data, y: y_data})\n",
    "        loss_data.append(loss)\n",
    "        if e % display_step == 0:\n",
    "            log_str = \"Epoch %d \\t Loss = %.4g \\t  Model: y = %.4gx1 + %.4gx2 + %.4g\"\n",
    "            print(log_str % (e, loss, w[1], w[2], w[0]))\n",
    "        \n",
    "writer.close()\n",
    "loss_data = np.array(loss_data).reshape(len(loss_data))\n"
   ]
  },
  {
   "cell_type": "code",
   "execution_count": 18,
   "metadata": {},
   "outputs": [
    {
     "data": {
      "image/png": "[encoded data removed]",
      "text/plain": [
       "<Figure size 864x432 with 1 Axes>"
      ]
     },
     "metadata": {
      "needs_background": "light"
     },
     "output_type": "display_data"
    }
   ],
   "source": [
    "ax = sns.lineplot(x = 'epoch', y = 'loss', data = pd.DataFrame({'loss': loss_data, 'epoch': np.arange(training_epochs)}))\n",
    "ax.set_xlabel('epoch')\n",
    "ax.set_ylabel('loss')\n",
    "plt.show()"
   ]
  },
  {
   "cell_type": "code",
   "execution_count": null,
   "metadata": {},
   "outputs": [],
   "source": []
  }
 ],
 "metadata": {
  "kernelspec": {
   "display_name": "Python 3",
   "language": "python",
   "name": "python3"
  },
  "language_info": {
   "codemirror_mode": {
    "name": "ipython",
    "version": 3
   },
   "file_extension": ".py",
   "mimetype": "text/x-python",
   "name": "python",
   "nbconvert_exporter": "python",
   "pygments_lexer": "ipython3",
   "version": "3.7.4"
  }
 },
 "nbformat": 4,
 "nbformat_minor": 2
}
